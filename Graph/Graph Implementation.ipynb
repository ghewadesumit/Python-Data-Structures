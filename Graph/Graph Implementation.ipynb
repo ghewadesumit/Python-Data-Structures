{
 "cells": [
  {
   "cell_type": "markdown",
   "metadata": {},
   "source": [
    "## Graph Adjacency List Implementation"
   ]
  },
  {
   "cell_type": "markdown",
   "metadata": {},
   "source": [
    "Space Complexity of a Grap is O(V + E) where \n",
    "V = Number of Vertex\n",
    "E = Number of Edges"
   ]
  },
  {
   "cell_type": "code",
   "execution_count": 1,
   "metadata": {},
   "outputs": [],
   "source": [
    "class Vertex():\n",
    "    \n",
    "    def __init__(self,vertex):\n",
    "        self.vertex = vertex\n",
    "        #to store the vertex in a given graph\n",
    "        self.vertexlist = {}\n",
    "        #to store the connection of each vertex individually\n",
    "        self.ngbr= {}\n",
    "        \n",
    "    \n",
    "    #add vertex to graph\n",
    "    def addvertex(self,value):\n",
    "        \n",
    "        # create a new object of the vertex class \n",
    "        new_vertex = Vertex(value)\n",
    "        \n",
    "        #assign that vertex to the vertexlist which in this case is a dictionary\n",
    "        self.vertexlist[value] = new_vertex\n",
    "        \n",
    "    \n",
    "    # add Edge between the vertex created\n",
    "    def addEdge(self,from_vertex,to_vertex,cost):\n",
    "        \n",
    "        #if the from_vertex is not in the already defined vertexlist then create a new object of class Vertex\n",
    "        #and update the vertexlist by adding the from_vertex\n",
    "        if from_vertex not in self.vertexlist:\n",
    "            self.vertexlist[from_vertex] = Vertex(from_vertex)\n",
    "        \n",
    "        #if the to_vertex is not in the already defined vertexlist then create a new object of class Vertex\n",
    "        #and update the vertexlist by adding the to_vertex\n",
    "        if to_vertex not in self.vertexlist:\n",
    "            self.vertexlist[to_vertex] = Vertex(to_vertex)\n",
    "              \n",
    "        #if the from_vertex is present in the dictionary then add the edge between from_vertex and to_vertex\n",
    "        # Here what we are doing is that we are creating a dictionary for the current from_vertex(source) to store the cost(weight) \n",
    "        #of the edges to the to_vertex(destination)\n",
    "        \n",
    "        #dividing the below statement for better understanding\n",
    "        \n",
    "        #self.vertexlist[from_vertex] this will get the object\n",
    "        #self.vertexlist[from_vertex].ngbr creates the dictionary for the current vertex\n",
    "        #now we specifiy the key and value to store the edges\n",
    "        \n",
    "        self.vertexlist[from_vertex].ngbr[self.vertexlist[to_vertex]] = cost\n",
    "        \n",
    "        \n",
    "        \n",
    "    def BFS(self,node):\n",
    "        #check if the Source node is in the vertex list\n",
    "        #if not then return not present\n",
    "        if node not in self.vertexlist:\n",
    "            return 'Vertex not present'\n",
    "        \n",
    "        #set the current vertex level to 0\n",
    "        level = {node:0}\n",
    "        BFS_result = [node]\n",
    "        #set the current vertex parent to None\n",
    "        parent = {node: None}\n",
    "        \n",
    "        # here i used to count the current level\n",
    "        i = 1\n",
    "        \n",
    "        #To store the current vertex\n",
    "        frontier = [node]\n",
    "         \n",
    "        #while the frontier is not None\n",
    "        while frontier:\n",
    "            #define the nexnode array which will contain next node to iterate\n",
    "            nextnode = []\n",
    "            #for the current vertex\n",
    "            for u in frontier:\n",
    "                #print(self.vertexlist[u].vertex)\n",
    "                #for the adjacent vertex or neighbors check\n",
    "                for v in self.vertexlist[u].ngbr:\n",
    "                    #check if the neighbor(adjacent vertex) is visited or not\n",
    "                    #we keep track of visited nodes by updating the level dictionary\n",
    "                    if v.vertex not in level:\n",
    "                        #set the neighbor level count in level dictionary\n",
    "                        level[v.vertex] = i\n",
    "                        BFS_result.append(v.vertex)\n",
    "                        \n",
    "                        #set the parent of the neighbor which is the current vertex(u) in this case\n",
    "                        parent[v.vertex] = self.vertexlist[u].vertex\n",
    "                        #append the neighbor to the nextnode so that these nodes can be traversed\n",
    "                        nextnode.append(v.vertex)\n",
    "            #updating the frontier to neighbors obtained from current vertex\n",
    "            frontier = nextnode\n",
    "            #updating the level\n",
    "            i += 1\n",
    "        return BFS_result\n",
    "                    \n",
    "    \n",
    "    def DFS(self,node):\n",
    "        \n",
    "        if node not in self.vertexlist:\n",
    "            return 'Source Node not available'\n",
    "        \n",
    "        #to keep track of visited nodes\n",
    "        visited = []\n",
    "        #current nodes in the stack\n",
    "        stack = [node]\n",
    "        \n",
    "        #while there are elements in the stack\n",
    "        while stack:\n",
    "            #pop the current node \n",
    "            current_node = stack.pop()\n",
    "            #check if available in the visited \n",
    "            #if yes then continue\n",
    "            \n",
    "            if current_node in visited:\n",
    "                continue\n",
    "            #else append the new node to the visited list\n",
    "            visited.append(current_node)\n",
    "            #then check if there are any neighbors for the current node\n",
    "            for v in self.vertexlist[current_node].ngbr:\n",
    "                #append the new neighbors to stack and continue\n",
    "                stack.append(v.vertex)\n",
    "        #in the end return the visited nodes\n",
    "        return visited\n",
    "    \n",
    "                \n",
    "\n",
    "        "
   ]
  },
  {
   "cell_type": "code",
   "execution_count": 2,
   "metadata": {},
   "outputs": [],
   "source": [
    "# creating a object of Vertex class\n",
    "v = Vertex(None)\n",
    "\n",
    "#adding vertex object to the Vertex class\n",
    "v.addvertex(1)\n",
    "v.addvertex(2)\n",
    "v.addvertex(3)\n",
    "v.addvertex(4)"
   ]
  },
  {
   "cell_type": "code",
   "execution_count": 3,
   "metadata": {},
   "outputs": [],
   "source": [
    "#assigning the edges and cost(weight) to the vertexs in the graph\n",
    "v.addEdge(1,2,1)\n",
    "v.addEdge(1,3,1)\n",
    "v.addEdge(2,4,1)"
   ]
  },
  {
   "cell_type": "code",
   "execution_count": 4,
   "metadata": {},
   "outputs": [
    {
     "data": {
      "text/plain": [
       "[1, 3, 2, 4]"
      ]
     },
     "execution_count": 4,
     "metadata": {},
     "output_type": "execute_result"
    }
   ],
   "source": [
    "v.DFS(1)"
   ]
  },
  {
   "cell_type": "code",
   "execution_count": 227,
   "metadata": {},
   "outputs": [
    {
     "name": "stdout",
     "output_type": "stream",
     "text": [
      "Vertex 1 is connected to ['2:1', '3:1']\n",
      "Vertex 2 is connected to ['4:1']\n",
      "Vertex 3 is connected to []\n",
      "Vertex 4 is connected to []\n"
     ]
    }
   ],
   "source": [
    "    \n",
    "for i in v.vertexlist:\n",
    "    print('Vertex',v.vertexlist[i].vertex,'is connected to',str([str(x.vertex)+':'+ str(v.vertexlist[i].ngbr[x]) for x in v.vertexlist[i].ngbr]))"
   ]
  },
  {
   "cell_type": "code",
   "execution_count": 5,
   "metadata": {},
   "outputs": [
    {
     "data": {
      "text/plain": [
       "[1, 2, 3, 4]"
      ]
     },
     "execution_count": 5,
     "metadata": {},
     "output_type": "execute_result"
    }
   ],
   "source": [
    "v.BFS(1)"
   ]
  }
 ],
 "metadata": {
  "kernelspec": {
   "display_name": "Python 3",
   "language": "python",
   "name": "python3"
  },
  "language_info": {
   "codemirror_mode": {
    "name": "ipython",
    "version": 3
   },
   "file_extension": ".py",
   "mimetype": "text/x-python",
   "name": "python",
   "nbconvert_exporter": "python",
   "pygments_lexer": "ipython3",
   "version": "3.6.8"
  }
 },
 "nbformat": 4,
 "nbformat_minor": 2
}

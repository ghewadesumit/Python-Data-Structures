{
 "cells": [
  {
   "cell_type": "code",
   "execution_count": 35,
   "metadata": {},
   "outputs": [],
   "source": [
    "class Node:\n",
    "    \n",
    "    def __init__(self,data):\n",
    "        \n",
    "        self.data = data\n",
    "        self.nextnode = None"
   ]
  },
  {
   "cell_type": "code",
   "execution_count": 52,
   "metadata": {},
   "outputs": [],
   "source": [
    "# Create a list of 4 nodes\n",
    "a = Node(1)\n",
    "b = Node(2)\n",
    "c = Node(3)\n",
    "d = Node(4)\n",
    "\n",
    "# Set up order a,b,c,d with values 1,2,3,4\n",
    "a.nextnode = b\n",
    "b.nextnode = c\n",
    "c.nextnode = d"
   ]
  },
  {
   "cell_type": "markdown",
   "metadata": {},
   "source": [
    "Since we want to do this in place we want to make the funciton operate in O(1) space, meaning we don't want to create a new list, so we will simply use the current nodes! Time wise, we can perform the reversal in O(n) time.\n",
    "\n",
    "We can reverse the list by changing the next pointer of each node. Each node's next pointer should point to the previous node.\n",
    "\n",
    "In one pass from head to tail of our input list, we will point each node's next pointer to the previous element.\n",
    "\n",
    "Make sure to copy current.next_node into next_node before setting current.next_node to previous. Let's see this solution coded out:"
   ]
  },
  {
   "cell_type": "code",
   "execution_count": 51,
   "metadata": {},
   "outputs": [],
   "source": [
    "\n",
    "def reverse(val):\n",
    "    \n",
    "    currentnode = val\n",
    "    next_node = None\n",
    "    prev = None\n",
    "    while currentnode:\n",
    "        nextnode = currentnode.nextnode\n",
    "        \n",
    "        currentnode.nextnode = prev\n",
    "        \n",
    "        prev = currentnode\n",
    "        \n",
    "        currentnode = nextnode\n",
    "    return prev"
   ]
  },
  {
   "cell_type": "code",
   "execution_count": 53,
   "metadata": {},
   "outputs": [
    {
     "data": {
      "text/plain": [
       "<__main__.Node at 0x24e94f958d0>"
      ]
     },
     "execution_count": 53,
     "metadata": {},
     "output_type": "execute_result"
    }
   ],
   "source": [
    "reverse(a)"
   ]
  },
  {
   "cell_type": "code",
   "execution_count": 55,
   "metadata": {},
   "outputs": [
    {
     "data": {
      "text/plain": [
       "3"
      ]
     },
     "execution_count": 55,
     "metadata": {},
     "output_type": "execute_result"
    }
   ],
   "source": [
    "d.nextnode.data"
   ]
  },
  {
   "cell_type": "code",
   "execution_count": 26,
   "metadata": {},
   "outputs": [],
   "source": [
    "# This function is not in place and doesn't have efficient time and space complexity\n",
    "def reverse(val):\n",
    "    \n",
    "    currentnode = val\n",
    "    nodelist = []\n",
    "    # here until we reach end of the node we are appending the Node to the list\n",
    "    while currentnode != None:\n",
    "        print('appending')\n",
    "        nodelist.append(currentnode)\n",
    "        currentnode = currentnode.nextnode\n",
    "    \n",
    "    #after appending the nodes to the list\n",
    "    #in the reverse order we assign the nodes to each other\n",
    "    # This is how we achieve reversed Linked List but this isn't a good way\n",
    "    for i in range(3,-1,-1):\n",
    "        if i == 0:\n",
    "            nodelist[i].nextnode = None\n",
    "        else:\n",
    "            print('cuurent data is',nodelist[i].data,'appending data',nodelist[i-1].data)\n",
    "            nodelist[i].nextnode = nodelist[i-1]        \n"
   ]
  },
  {
   "cell_type": "code",
   "execution_count": 27,
   "metadata": {},
   "outputs": [
    {
     "name": "stdout",
     "output_type": "stream",
     "text": [
      "appending\n",
      "appending\n",
      "appending\n",
      "appending\n",
      "cuurent data is 4 appending data 3\n",
      "cuurent data is 3 appending data 2\n",
      "cuurent data is 2 appending data 1\n"
     ]
    }
   ],
   "source": [
    "reverse(a)"
   ]
  },
  {
   "cell_type": "code",
   "execution_count": 32,
   "metadata": {},
   "outputs": [
    {
     "data": {
      "text/plain": [
       "3"
      ]
     },
     "execution_count": 32,
     "metadata": {},
     "output_type": "execute_result"
    }
   ],
   "source": [
    "d.nextnode.data"
   ]
  }
 ],
 "metadata": {
  "kernelspec": {
   "display_name": "Python 3",
   "language": "python",
   "name": "python3"
  },
  "language_info": {
   "codemirror_mode": {
    "name": "ipython",
    "version": 3
   },
   "file_extension": ".py",
   "mimetype": "text/x-python",
   "name": "python",
   "nbconvert_exporter": "python",
   "pygments_lexer": "ipython3",
   "version": "3.6.8"
  }
 },
 "nbformat": 4,
 "nbformat_minor": 2
}

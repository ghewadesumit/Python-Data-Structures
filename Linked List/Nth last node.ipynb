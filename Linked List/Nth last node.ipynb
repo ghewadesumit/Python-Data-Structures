{
 "cells": [
  {
   "cell_type": "code",
   "execution_count": 10,
   "metadata": {},
   "outputs": [],
   "source": [
    "class Node:\n",
    "    \n",
    "    def __init__(self,data):\n",
    "        self.data = data\n",
    "        self.nextnode = None"
   ]
  },
  {
   "cell_type": "code",
   "execution_count": 12,
   "metadata": {},
   "outputs": [],
   "source": [
    "def nth_to_the_last_node(n,head):\n",
    "    leftpointer = head\n",
    "    rightpointer = head\n",
    "    \n",
    "    for i in range(n-1):\n",
    "        if not rightpointer.nextnode:\n",
    "            raise LookupError('Error: n is larger than the Linkedlist')\n",
    "        rightpointer = rightpointer.nextnode\n",
    "        #print('right node value is',rightpointer.data)\n",
    "        \n",
    "    while rightpointer.nextnode:\n",
    "        #print('Current left pointer is,',leftpointer.data)\n",
    "        leftpointer = leftpointer.nextnode\n",
    "        #print('Nextnode Left pointer is',leftpointer.data)\n",
    "        #print('Current Right pointer is,',rightpointer.data)\n",
    "        rightpointer = rightpointer.nextnode\n",
    "        #print('right pointer is,',rightpointer.data)\n",
    "        \n",
    "    return leftpointer.data\n",
    "        \n",
    "        "
   ]
  },
  {
   "cell_type": "code",
   "execution_count": 13,
   "metadata": {},
   "outputs": [],
   "source": [
    "a = Node(1)\n",
    "b = Node(2)\n",
    "c = Node(3)\n",
    "d = Node(4)\n",
    "e = Node(5)\n",
    "\n",
    "a.nextnode = b\n",
    "b.nextnode = c\n",
    "c.nextnode = d\n",
    "d.nextnode = e"
   ]
  },
  {
   "cell_type": "code",
   "execution_count": 17,
   "metadata": {},
   "outputs": [
    {
     "data": {
      "text/plain": [
       "4"
      ]
     },
     "execution_count": 17,
     "metadata": {},
     "output_type": "execute_result"
    }
   ],
   "source": [
    "nth_to_the_last_node(2,a)"
   ]
  }
 ],
 "metadata": {
  "kernelspec": {
   "display_name": "Python 3",
   "language": "python",
   "name": "python3"
  },
  "language_info": {
   "codemirror_mode": {
    "name": "ipython",
    "version": 3
   },
   "file_extension": ".py",
   "mimetype": "text/x-python",
   "name": "python",
   "nbconvert_exporter": "python",
   "pygments_lexer": "ipython3",
   "version": "3.6.8"
  }
 },
 "nbformat": 4,
 "nbformat_minor": 2
}

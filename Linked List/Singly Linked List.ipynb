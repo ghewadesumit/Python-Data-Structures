{
 "cells": [
  {
   "cell_type": "code",
   "execution_count": 88,
   "metadata": {},
   "outputs": [],
   "source": [
    "#creating single linked list\n",
    "class Node:\n",
    "    def __init__(self, data):\n",
    "        self.data = data\n",
    "        self.next_node = None"
   ]
  },
  {
   "cell_type": "code",
   "execution_count": 92,
   "metadata": {},
   "outputs": [],
   "source": [
    "# Insert Print Search and Delete operations on singly linked list\n",
    "class LinkedList:\n",
    "    \n",
    "    #Initializing Head of the LinkedList\n",
    "    def __init__(self,head = None):\n",
    "        self.head = None\n",
    "    \n",
    "    #Insert fucntion to insert elements at the end of the\n",
    "    def insert_node(self,data):\n",
    "        \n",
    "        #create a node of the new data\n",
    "        new_node = Node(data)\n",
    "        \n",
    "        #if the head is None then assign the new data to Head and return\n",
    "        if self.head is None:\n",
    "            self.head = new_node\n",
    "            return        \n",
    "        #if head is not None then assign the present value of Head to the current_node\n",
    "        current_node = self.head\n",
    "        \n",
    "        #check if the current nodes next value is None if yes then assign current nodes \n",
    "        # next elemet value to be the value of the new node\n",
    "        \n",
    "        # If the current nodes next value is not None then assign the current_node with\n",
    "        #the next node value until we find the current node whose next node is None\n",
    "        while True:\n",
    "            if current_node.next_node is None:\n",
    "                current_node.next_node = new_node\n",
    "                break\n",
    "            current_node = current_node.next_node \n",
    "            \n",
    "                \n",
    "    # printing all the nodes\n",
    "    def print_node(self):\n",
    "        #assign the current node to the head\n",
    "        current_node = self.head\n",
    "        # While the current node is not None print the Nodes\n",
    "        while current_node is not None:\n",
    "            print(current_node.data,'->',end=\" \")\n",
    "            #keep updating the current nodes with the next node\n",
    "            current_node = current_node.next_node\n",
    "        print('None')\n",
    "        \n",
    "    #searching for a particular node\n",
    "    def search(self,data):\n",
    "        d_search = data\n",
    "        current_node = self.head\n",
    "        while current_node:\n",
    "            if d_search == current_node.data:\n",
    "                return True\n",
    "            current_node = current_node.next_node\n",
    "        return False\n",
    "    \n",
    "    #deleting a node\n",
    "    def delete(self,data):\n",
    "        prev = None\n",
    "        d_delete = data\n",
    "                \n",
    "        current_node = self.head\n",
    "        while current_node:\n",
    "            \n",
    "            #compare the data with the current nodes data\n",
    "            if d_delete == current_node.data:\n",
    "                \n",
    "                #if the above condition is satisfied and it has previous then set prev to current's next node\n",
    "                if prev:\n",
    "                    prev.next_node = current_node.next_node\n",
    "                else:\n",
    "                    #if no previous i.e the current node is head node then set the current's next node to head\n",
    "                    self.head = current_node.next_node\n",
    "                return True\n",
    "                    \n",
    "            # if the match is not found then update the previous node with currentnode and assign the\n",
    "            #currentnode with the currentnodes next nodes\n",
    "            prev = current_node\n",
    "            current_node = current_node.next_node\n",
    "            \n",
    "        return False\n",
    "                "
   ]
  },
  {
   "cell_type": "code",
   "execution_count": 96,
   "metadata": {},
   "outputs": [
    {
     "name": "stdout",
     "output_type": "stream",
     "text": [
      "1 -> None\n",
      "1 -> 2 -> None\n",
      "1 -> 2 -> 3 -> None\n"
     ]
    }
   ],
   "source": [
    "obj = LinkedList()\n",
    "obj.insert_node(1)\n",
    "obj.print_node()\n",
    "obj.insert_node(2)\n",
    "obj.print_node()\n",
    "obj.insert_node(3)\n",
    "obj.print_node()\n"
   ]
  },
  {
   "cell_type": "code",
   "execution_count": 97,
   "metadata": {},
   "outputs": [
    {
     "data": {
      "text/plain": [
       "True"
      ]
     },
     "execution_count": 97,
     "metadata": {},
     "output_type": "execute_result"
    }
   ],
   "source": [
    "obj.delete(2)"
   ]
  },
  {
   "cell_type": "code",
   "execution_count": 98,
   "metadata": {},
   "outputs": [
    {
     "name": "stdout",
     "output_type": "stream",
     "text": [
      "1 -> 3 -> None\n"
     ]
    }
   ],
   "source": [
    "obj.print_node()"
   ]
  },
  {
   "cell_type": "code",
   "execution_count": 10,
   "metadata": {},
   "outputs": [
    {
     "data": {
      "text/plain": [
       "3"
      ]
     },
     "execution_count": 10,
     "metadata": {},
     "output_type": "execute_result"
    }
   ],
   "source": [
    "obj2.next_node.data"
   ]
  }
 ],
 "metadata": {
  "kernelspec": {
   "display_name": "Python 3",
   "language": "python",
   "name": "python3"
  },
  "language_info": {
   "codemirror_mode": {
    "name": "ipython",
    "version": 3
   },
   "file_extension": ".py",
   "mimetype": "text/x-python",
   "name": "python",
   "nbconvert_exporter": "python",
   "pygments_lexer": "ipython3",
   "version": "3.6.8"
  }
 },
 "nbformat": 4,
 "nbformat_minor": 2
}

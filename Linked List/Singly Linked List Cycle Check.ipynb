{
 "cells": [
  {
   "cell_type": "code",
   "execution_count": 26,
   "metadata": {},
   "outputs": [],
   "source": [
    "class Node:\n",
    "    \n",
    "    def __init__(self,data):\n",
    "        self.data = data\n",
    "        self.nextnode = None"
   ]
  },
  {
   "cell_type": "code",
   "execution_count": 27,
   "metadata": {},
   "outputs": [],
   "source": [
    "#check if the last node points back at the front node\n",
    "def cycle_check(val):\n",
    "        head = val\n",
    "        currentnode = val\n",
    "        while currentnode.nextnode != None:\n",
    "            if currentnode.nextnode == head:\n",
    "                print('True')\n",
    "                return True\n",
    "            else:\n",
    "                currentnode = currentnode.nextnode\n",
    "        print('False')\n",
    "        return False\n",
    "                "
   ]
  },
  {
   "cell_type": "code",
   "execution_count": 28,
   "metadata": {},
   "outputs": [
    {
     "name": "stdout",
     "output_type": "stream",
     "text": [
      "True\n",
      "False\n",
      "ALL TEST CASES PASSED\n"
     ]
    }
   ],
   "source": [
    "from nose.tools import assert_equal\n",
    "\n",
    "# CREATE CYCLE LIST\n",
    "a = Node(1)\n",
    "b = Node(2)\n",
    "c = Node(3)\n",
    "\n",
    "a.nextnode = b\n",
    "b.nextnode = c\n",
    "c.nextnode = a # Cycle Here!\n",
    "\n",
    "\n",
    "# CREATE NON CYCLE LIST\n",
    "x = Node(1)\n",
    "y = Node(2)\n",
    "z = Node(3)\n",
    "\n",
    "x.nextnode = y\n",
    "y.nextnode = z\n",
    "\n",
    "\n",
    "#############\n",
    "class TestCycleCheck(object):\n",
    "    \n",
    "    def test(self,sol):\n",
    "        assert_equal(sol(a),True)\n",
    "        assert_equal(sol(x),False)\n",
    "        \n",
    "        print (\"ALL TEST CASES PASSED\")\n",
    "        \n",
    "# Run Tests\n",
    "\n",
    "t = TestCycleCheck()\n",
    "t.test(cycle_check)"
   ]
  }
 ],
 "metadata": {
  "kernelspec": {
   "display_name": "Python 3",
   "language": "python",
   "name": "python3"
  },
  "language_info": {
   "codemirror_mode": {
    "name": "ipython",
    "version": 3
   },
   "file_extension": ".py",
   "mimetype": "text/x-python",
   "name": "python",
   "nbconvert_exporter": "python",
   "pygments_lexer": "ipython3",
   "version": "3.6.8"
  }
 },
 "nbformat": 4,
 "nbformat_minor": 2
}
